{
 "cells": [
  {
   "cell_type": "code",
   "id": "initial_id",
   "metadata": {
    "collapsed": true,
    "ExecuteTime": {
     "end_time": "2025-04-29T05:34:27.143743Z",
     "start_time": "2025-04-29T05:34:23.072282Z"
    }
   },
   "source": [
    "import matplotlib.pyplot as plt\n",
    "import numpy as np\n",
    "import pandas as pd\n",
    "import os\n"
   ],
   "outputs": [],
   "execution_count": 1
  },
  {
   "metadata": {
    "ExecuteTime": {
     "end_time": "2025-04-29T05:34:27.160009Z",
     "start_time": "2025-04-29T05:34:27.145679Z"
    }
   },
   "cell_type": "code",
   "source": [
    "## CSV to pandas DataFrame Import##\n",
    "from tabulate import tabulate\n",
    "def csv_to_df(filename, filepath=None):\n",
    "    \"\"\"\n",
    "    Extracts major and trace/REE element oxide data from a .csv and organizes it into a pandas DataFrame.\n",
    "            - Each column is a different oxide/species/category.\n",
    "            - Each sample is a row in the .csv file.\n",
    "            - Each sample becomes a row in a pandas DataFrame.\n",
    "            - Data can be filtered by sample name, oxide name, or special groups:\n",
    "                - Major elements\n",
    "                - Trace elements\n",
    "                - REE elements\n",
    "\n",
    "    ****At the moment, all data includes the LOI + sum values.\n",
    "\n",
    "    Parameters:\n",
    "        - filename: str - name of the .csv file\n",
    "        - **folderpath: str, optional: path to folder if not sci-data\n",
    "\n",
    "    Returns:\n",
    "        pd.DataFrame: The imported data as a pandas DataFrame.\n",
    "    \"\"\"\n",
    "    if filepath is None:\n",
    "        script_dir = os.path.expanduser('~/PycharmProjects/scientific-coding-v1/sci-data/')\n",
    "        filepath = os.path.join(script_dir, filename)\n",
    "\n",
    "        df = pd.read_csv(filepath)\n",
    "        column_names = list(df.columns)\n",
    "\n",
    "        print(f\"Columns:{column_names}\")\n",
    "        print(f\"\\n .csv file successfully imported.\")\n",
    "    return df\n",
    "\n"
   ],
   "id": "ad6b67e5e8e08583",
   "outputs": [],
   "execution_count": 2
  },
  {
   "metadata": {
    "ExecuteTime": {
     "end_time": "2025-04-29T05:34:27.165563Z",
     "start_time": "2025-04-29T05:34:27.161456Z"
    }
   },
   "cell_type": "code",
   "source": [
    "def extract_MajorOx(df):\n",
    "    \"\"\"\n",
    "    Extracts major element oxides from a pandas DataFrame.\n",
    "\n",
    "    Places them in a list alongside oxides expected by MELTS as input.\n",
    "\n",
    "        MAJOR OXIDES:\n",
    "            - SiO2\n",
    "            - TiO2\n",
    "            - Al2O3\n",
    "            - Fe2O3\n",
    "            - Cr2O3\n",
    "            - FeO\n",
    "            - MnO\n",
    "            - MgO\n",
    "            - NiO\n",
    "            - CoO\n",
    "            - CaO\n",
    "            - Na2O\n",
    "            - K2O\n",
    "            - P2O5\n",
    "\n",
    "        VOLATILE PHASES:\n",
    "            - H2O\n",
    "            - CO2\n",
    "            - SO3\n",
    "            - Cl2O-1\n",
    "            - F2O-1\n",
    "    \"\"\"\n",
    "    major_oxides = ['SiO2', 'TiO2', 'Al2O3', 'Fe2O3', 'Cr2O3', 'FeO', 'MnO', 'MgO', 'NiO', 'CoO', 'CaO', 'Na2O', 'K2O', 'P2O5', 'H2O', 'CO2', 'SO3', 'Cl2O-1', 'F2O-1']\n",
    "    major_df = df[major_oxides]\n",
    "    print(\"\\n Major oxides extracted.\")\n",
    "    return major_df"
   ],
   "id": "4e9bed2df52b5494",
   "outputs": [],
   "execution_count": 3
  },
  {
   "metadata": {
    "ExecuteTime": {
     "end_time": "2025-04-29T05:34:27.174074Z",
     "start_time": "2025-04-29T05:34:27.167354Z"
    }
   },
   "cell_type": "code",
   "source": [
    "## First I'm going to create a function that will plot a single diagram based on a specific x and y axis input. \n",
    "def harker_diagram(plotLength, plotWidth, title, x, xerr, xlabel, y, yerr, ylabel, pointlabels, colorlist):   \n",
    "    \"\"\"\n",
    "    Plots a Harker diagram with error bars for the specified x and y axes.\n",
    "\n",
    "    Parameters:\n",
    "        - plotLength: int - length of the plot\n",
    "        - plotWidth: int - width of the plot\n",
    "        - title: str - title of the plot\n",
    "        - x: str - x-axis label\n",
    "        - xlabel: str - x-axis label\n",
    "        - y: str - y-axis label\n",
    "        - ylabel: str - y-axis label\n",
    "        - df: pd.DataFrame - DataFrame containing the data to plot\n",
    "        - datarange: index - start:end of rows (samples) to plot\n",
    "        - error: name of row that contains error measurements \n",
    "        \n",
    "    \"\"\"\n",
    "    fig, ax = plt.subplots(figsize=(plotLength, plotWidth))\n",
    "    fig.suptitle(title, fontsize=20)\n",
    "    ax.errorbar(x, y, xerr=xerr, yerr=yerr, color=colorlist, fmt='o', ecolor=colorlist, capsize=1.5, alpha=0.7, markersize=4)\n",
    "    ax.set_xlabel(xlabel, fontsize=13)\n",
    "    ax.set_ylabel(ylabel, fontsize=13)\n",
    "    \n",
    "    for i, name in enumerate(pointlabels):\n",
    "        ax.annotate(name, (x.iloc[i], y.iloc[i]), fontsize=10, ha='center', va='baseline',alpha=0.4 )\n",
    "    \n",
    "    # x-axis and labels\n",
    "    return fig, ax"
   ],
   "id": "36f1fa5aeb9cd54d",
   "outputs": [],
   "execution_count": 4
  }
 ],
 "metadata": {
  "kernelspec": {
   "display_name": "Python 3",
   "language": "python",
   "name": "python3"
  },
  "language_info": {
   "codemirror_mode": {
    "name": "ipython",
    "version": 2
   },
   "file_extension": ".py",
   "mimetype": "text/x-python",
   "name": "python",
   "nbconvert_exporter": "python",
   "pygments_lexer": "ipython2",
   "version": "2.7.6"
  }
 },
 "nbformat": 4,
 "nbformat_minor": 5
}
